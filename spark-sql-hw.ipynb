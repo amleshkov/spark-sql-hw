{
 "cells": [
  {
   "cell_type": "markdown",
   "id": "32967d18",
   "metadata": {},
   "source": [
    "### Домашнее задание по теме «Spark SQL»"
   ]
  },
  {
   "cell_type": "code",
   "execution_count": 1,
   "id": "4a74bb64",
   "metadata": {},
   "outputs": [
    {
     "name": "stdout",
     "output_type": "stream",
     "text": [
      "iso_code,continent,location,date,total_cases,new_cases,new_cases_smoothed,total_deaths,new_deaths,new_deaths_smoothed,total_cases_per_million,new_cases_per_million,new_cases_smoothed_per_million,total_deaths_per_million,new_deaths_per_million,new_deaths_smoothed_per_million,reproduction_rate,icu_patients,icu_patients_per_million,hosp_patients,hosp_patients_per_million,weekly_icu_admissions,weekly_icu_admissions_per_million,weekly_hosp_admissions,weekly_hosp_admissions_per_million,new_tests,total_tests,total_tests_per_thousand,new_tests_per_thousand,new_tests_smoothed,new_tests_smoothed_per_thousand,positive_rate,tests_per_case,tests_units,total_vaccinations,people_vaccinated,people_fully_vaccinated,new_vaccinations,new_vaccinations_smoothed,total_vaccinations_per_hundred,people_vaccinated_per_hundred,people_fully_vaccinated_per_hundred,new_vaccinations_smoothed_per_million,stringency_index,population,population_density,median_age,aged_65_older,aged_70_older,gdp_per_capita,extreme_poverty,cardiovasc_death_rate,diabetes_prevalence,female_smokers,male_smokers,handwashing_facilities,hospital_beds_per_thousand,life_expectancy,human_development_index\r\n",
      "AFG,Asia,Afghanistan,2020-02-24,1.0,1.0,,,,,0.026,0.026,,,,,,,,,,,,,,,,,,,,,,,,,,,,,,,,8.33,38928341.0,54.422,18.6,2.581,1.337,1803.987,,597.029,9.59,,,37.746,0.5,64.83,0.511\r\n"
     ]
    }
   ],
   "source": [
    "!head -2 owid-covid-data.csv"
   ]
  },
  {
   "cell_type": "code",
   "execution_count": 1,
   "id": "d464345a",
   "metadata": {},
   "outputs": [],
   "source": [
    "from pyspark.sql.functions import col, format_number, lag\n",
    "from pyspark.sql.window import Window"
   ]
  },
  {
   "cell_type": "code",
   "execution_count": 2,
   "id": "b00f78c6",
   "metadata": {},
   "outputs": [],
   "source": [
    "spark = SparkSession.builder.getOrCreate()"
   ]
  },
  {
   "cell_type": "code",
   "execution_count": 3,
   "id": "6f21b251",
   "metadata": {},
   "outputs": [
    {
     "name": "stderr",
     "output_type": "stream",
     "text": [
      "                                                                                \r"
     ]
    }
   ],
   "source": [
    "df = spark.read.csv(\"owid-covid-data.csv\", inferSchema=True, header=True)"
   ]
  },
  {
   "cell_type": "code",
   "execution_count": 4,
   "id": "04f0fd3d",
   "metadata": {
    "scrolled": true
   },
   "outputs": [
    {
     "name": "stdout",
     "output_type": "stream",
     "text": [
      "root\n",
      " |-- iso_code: string (nullable = true)\n",
      " |-- continent: string (nullable = true)\n",
      " |-- location: string (nullable = true)\n",
      " |-- date: timestamp (nullable = true)\n",
      " |-- total_cases: double (nullable = true)\n",
      " |-- new_cases: double (nullable = true)\n",
      " |-- new_cases_smoothed: double (nullable = true)\n",
      " |-- total_deaths: double (nullable = true)\n",
      " |-- new_deaths: double (nullable = true)\n",
      " |-- new_deaths_smoothed: double (nullable = true)\n",
      " |-- total_cases_per_million: double (nullable = true)\n",
      " |-- new_cases_per_million: double (nullable = true)\n",
      " |-- new_cases_smoothed_per_million: double (nullable = true)\n",
      " |-- total_deaths_per_million: double (nullable = true)\n",
      " |-- new_deaths_per_million: double (nullable = true)\n",
      " |-- new_deaths_smoothed_per_million: double (nullable = true)\n",
      " |-- reproduction_rate: double (nullable = true)\n",
      " |-- icu_patients: double (nullable = true)\n",
      " |-- icu_patients_per_million: double (nullable = true)\n",
      " |-- hosp_patients: double (nullable = true)\n",
      " |-- hosp_patients_per_million: double (nullable = true)\n",
      " |-- weekly_icu_admissions: double (nullable = true)\n",
      " |-- weekly_icu_admissions_per_million: double (nullable = true)\n",
      " |-- weekly_hosp_admissions: double (nullable = true)\n",
      " |-- weekly_hosp_admissions_per_million: double (nullable = true)\n",
      " |-- new_tests: double (nullable = true)\n",
      " |-- total_tests: double (nullable = true)\n",
      " |-- total_tests_per_thousand: double (nullable = true)\n",
      " |-- new_tests_per_thousand: double (nullable = true)\n",
      " |-- new_tests_smoothed: double (nullable = true)\n",
      " |-- new_tests_smoothed_per_thousand: double (nullable = true)\n",
      " |-- positive_rate: double (nullable = true)\n",
      " |-- tests_per_case: double (nullable = true)\n",
      " |-- tests_units: string (nullable = true)\n",
      " |-- total_vaccinations: double (nullable = true)\n",
      " |-- people_vaccinated: double (nullable = true)\n",
      " |-- people_fully_vaccinated: double (nullable = true)\n",
      " |-- new_vaccinations: double (nullable = true)\n",
      " |-- new_vaccinations_smoothed: double (nullable = true)\n",
      " |-- total_vaccinations_per_hundred: double (nullable = true)\n",
      " |-- people_vaccinated_per_hundred: double (nullable = true)\n",
      " |-- people_fully_vaccinated_per_hundred: double (nullable = true)\n",
      " |-- new_vaccinations_smoothed_per_million: double (nullable = true)\n",
      " |-- stringency_index: double (nullable = true)\n",
      " |-- population: double (nullable = true)\n",
      " |-- population_density: double (nullable = true)\n",
      " |-- median_age: double (nullable = true)\n",
      " |-- aged_65_older: double (nullable = true)\n",
      " |-- aged_70_older: double (nullable = true)\n",
      " |-- gdp_per_capita: double (nullable = true)\n",
      " |-- extreme_poverty: double (nullable = true)\n",
      " |-- cardiovasc_death_rate: double (nullable = true)\n",
      " |-- diabetes_prevalence: double (nullable = true)\n",
      " |-- female_smokers: double (nullable = true)\n",
      " |-- male_smokers: double (nullable = true)\n",
      " |-- handwashing_facilities: double (nullable = true)\n",
      " |-- hospital_beds_per_thousand: double (nullable = true)\n",
      " |-- life_expectancy: double (nullable = true)\n",
      " |-- human_development_index: double (nullable = true)\n",
      "\n"
     ]
    }
   ],
   "source": [
    "df.printSchema()"
   ]
  },
  {
   "cell_type": "markdown",
   "id": "6a9e36bf",
   "metadata": {},
   "source": [
    "### Задание 1\n",
    "Выберите 15 стран с наибольшим процентом переболевших на 31 марта (в выходящем датасете необходимы колонки: iso_code, страна, процент переболевших)"
   ]
  },
  {
   "cell_type": "code",
   "execution_count": 6,
   "id": "417ea741",
   "metadata": {},
   "outputs": [
    {
     "name": "stdout",
     "output_type": "stream",
     "text": [
      "+--------+-------------+------------------+\n",
      "|iso_code|     location|  cases_percentage|\n",
      "+--------+-------------+------------------+\n",
      "|     AND|      Andorra|15.543907331909661|\n",
      "|     MNE|   Montenegro|14.523725364693293|\n",
      "|     CZE|      Czechia|14.308848404077997|\n",
      "|     SMR|   San Marino|13.937179562732041|\n",
      "|     SVN|     Slovenia|10.370805779121204|\n",
      "|     LUX|   Luxembourg| 9.847342390123583|\n",
      "|     ISR|       Israel| 9.625106044786802|\n",
      "|     USA|United States| 9.203010995860707|\n",
      "|     SRB|       Serbia| 8.826328557933492|\n",
      "|     BHR|      Bahrain| 8.488860079114566|\n",
      "|     PAN|       Panama| 8.228739065460761|\n",
      "|     PRT|     Portugal| 8.058699735120369|\n",
      "|     EST|      Estonia| 8.022681579659551|\n",
      "|     SWE|       Sweden| 7.969744347858805|\n",
      "|     LTU|    Lithuania| 7.938864728274825|\n",
      "+--------+-------------+------------------+\n",
      "only showing top 15 rows\n",
      "\n"
     ]
    }
   ],
   "source": [
    "df.select(\"iso_code\", \"location\", (100*(df.total_cases / df.population)) \\\n",
    "            .alias(\"cases_percentage\")) \\\n",
    "            .where(df.date == \"2021-03-31\") \\\n",
    "            .orderBy(col(\"cases_percentage\").desc()) \\\n",
    "            .show(15)"
   ]
  },
  {
   "cell_type": "markdown",
   "id": "eb28cf96",
   "metadata": {},
   "source": [
    "### Задание 2\n",
    "Top 10 стран с максимальным зафиксированным кол-вом новых случаев за последнюю неделю марта 2021 в отсортированном порядке по убыванию\n",
    "(в выходящем датасете необходимы колонки: число, страна, кол-во новых случаев)"
   ]
  },
  {
   "cell_type": "code",
   "execution_count": 5,
   "id": "ec112b79",
   "metadata": {},
   "outputs": [],
   "source": [
    "df_range = df.select(\"date\", \"location\", \"new_cases\") \\\n",
    "    .where(df.date.between(\"2021-03-25\", \"2021-03-31\"))"
   ]
  },
  {
   "cell_type": "code",
   "execution_count": 6,
   "id": "2fb9be4c",
   "metadata": {},
   "outputs": [],
   "source": [
    "df_max_new_cases = df_range.groupBy(\"location\").max(\"new_cases\")"
   ]
  },
  {
   "cell_type": "code",
   "execution_count": 14,
   "id": "01745958",
   "metadata": {},
   "outputs": [
    {
     "name": "stdout",
     "output_type": "stream",
     "text": [
      "+-------------------+-------------+---------+\n",
      "|               date|     location|new_cases|\n",
      "+-------------------+-------------+---------+\n",
      "|2021-03-25 00:00:00|       Brazil| 100158.0|\n",
      "|2021-03-26 00:00:00|United States|  77321.0|\n",
      "|2021-03-31 00:00:00|        India|  72330.0|\n",
      "|2021-03-31 00:00:00|       France|  59054.0|\n",
      "|2021-03-31 00:00:00|       Turkey|  39302.0|\n",
      "|2021-03-26 00:00:00|       Poland|  35145.0|\n",
      "|2021-03-31 00:00:00|      Germany|  25014.0|\n",
      "|2021-03-26 00:00:00|        Italy|  24076.0|\n",
      "|2021-03-25 00:00:00|         Peru|  19206.0|\n",
      "|2021-03-26 00:00:00|       Africa|  18544.0|\n",
      "+-------------------+-------------+---------+\n",
      "only showing top 10 rows\n",
      "\n"
     ]
    }
   ],
   "source": [
    "exclude_list = ['World', 'Europe', 'European Union', \n",
    "                'Asia', 'South America', 'North America']\n",
    "\n",
    "df_max_new_cases \\\n",
    "        .withColumnRenamed(\"location\", \"location_\") \\\n",
    "        .join(df_range, \n",
    "                      (df_max_new_cases[\"max(new_cases)\"] == df_range.new_cases) \n",
    "                    & (df_max_new_cases.location == df_range.location)) \\\n",
    "        .orderBy(col(\"new_cases\").desc()) \\\n",
    "        .select(\"date\", \"location\", \"new_cases\") \\\n",
    "        .where(~col(\"location\").isin(exclude_list)) \\\n",
    "        .show(10)"
   ]
  },
  {
   "cell_type": "markdown",
   "id": "6c5175c3",
   "metadata": {},
   "source": [
    "### Задание 3\n",
    "Посчитайте изменение случаев относительно предыдущего дня в России за последнюю неделю марта 2021. (например: в россии вчера было 9150 , сегодня 8763, итог: -387) (в выходящем датасете необходимы колонки: число, кол-во новых случаев вчера, кол-во новых случаев сегодня, дельта)\n"
   ]
  },
  {
   "cell_type": "code",
   "execution_count": 17,
   "id": "f9e9932a",
   "metadata": {},
   "outputs": [
    {
     "name": "stdout",
     "output_type": "stream",
     "text": [
      "+-------------------+--------------+---------+------+\n",
      "|               date|new_cases_prev|new_cases| delta|\n",
      "+-------------------+--------------+---------+------+\n",
      "|2021-03-25 00:00:00|        8769.0|   9128.0| 359.0|\n",
      "|2021-03-26 00:00:00|        9128.0|   9073.0| -55.0|\n",
      "|2021-03-27 00:00:00|        9073.0|   8783.0|-290.0|\n",
      "|2021-03-28 00:00:00|        8783.0|   8979.0| 196.0|\n",
      "|2021-03-29 00:00:00|        8979.0|   8589.0|-390.0|\n",
      "|2021-03-30 00:00:00|        8589.0|   8162.0|-427.0|\n",
      "|2021-03-31 00:00:00|        8162.0|   8156.0|  -6.0|\n",
      "+-------------------+--------------+---------+------+\n",
      "\n"
     ]
    }
   ],
   "source": [
    "df_range = df.select(\"date\", \"location\", \"new_cases\") \\\n",
    "    .where(df.date.between(\"2021-03-24\", \"2021-03-31\"))\n",
    "\n",
    "window = Window().partitionBy(df.location).orderBy(df.date)\n",
    "\n",
    "df_range.select(\"date\", \"new_cases\", lag(col(\"new_cases\")).over(window).alias(\"new_cases_prev\")) \\\n",
    "    .where(df.location == \"Russia\") \\\n",
    "    .select(\"date\", \"new_cases_prev\", \"new_cases\", col(\"new_cases\") - col(\"new_cases_prev\")) \\\n",
    "    .withColumnRenamed(\"(new_cases - new_cases_prev)\", \"delta\") \\\n",
    "    .where(df.date.between(\"2021-03-25\", \"2021-03-31\")) \\\n",
    "    .show()"
   ]
  }
 ],
 "metadata": {
  "kernelspec": {
   "display_name": "Python 3 (ipykernel)",
   "language": "python",
   "name": "python3"
  },
  "language_info": {
   "codemirror_mode": {
    "name": "ipython",
    "version": 3
   },
   "file_extension": ".py",
   "mimetype": "text/x-python",
   "name": "python",
   "nbconvert_exporter": "python",
   "pygments_lexer": "ipython3",
   "version": "3.9.2"
  }
 },
 "nbformat": 4,
 "nbformat_minor": 5
}
